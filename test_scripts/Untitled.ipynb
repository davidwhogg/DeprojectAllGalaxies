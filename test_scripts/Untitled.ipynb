{
 "cells": [
  {
   "cell_type": "code",
   "execution_count": 6,
   "metadata": {
    "collapsed": false
   },
   "outputs": [
    {
     "name": "stdout",
     "output_type": "stream",
     "text": [
      "Populating the interactive namespace from numpy and matplotlib\n",
      "3.94096364509\n"
     ]
    }
   ],
   "source": [
    "%pylab inline\n",
    "\n",
    "import numpy\n",
    "import matplotlib.pyplot as plt\n",
    "\n",
    "def func((a,b,c,d,e)):\n",
    "    x = (a**2 + b/2.0) * numpy.sin(c) + (d*e)\n",
    "    return x\n",
    "    \n",
    "vec = numpy.random.uniform(2, 10, size=5)"
   ]
  },
  {
   "cell_type": "code",
   "execution_count": 18,
   "metadata": {
    "collapsed": false
   },
   "outputs": [
    {
     "name": "stdout",
     "output_type": "stream",
     "text": [
      "[    813.87642749   26173.46749188 -220878.89736476  -81492.20903774\n",
      "  -90800.89917906   -6008.74806583  315852.335482   -340412.45883999\n",
      "  -17409.54332278    -669.0726721 ]\n"
     ]
    }
   ],
   "source": [
    "def approx_jacobian(x, func, epsilon,*args):\n",
    "    \"\"\"Approximate the Jacobian matrix of callable function func\n",
    "\n",
    "       * Parameters\n",
    "         x       - The state vector at which the Jacobian matrix is desired\n",
    "         func    - A vector-valued function of the form f(x,*args)\n",
    "         epsilon - The peturbation used to determine the partial derivatives\n",
    "         *args   - Additional arguments passed to func\n",
    "\n",
    "       * Returns\n",
    "         An array of dimensions (lenf, lenx) where lenf is the length\n",
    "         of the outputs of func, and lenx is the number of\n",
    "\n",
    "       * Notes\n",
    "         The approximation is done using forward differences\n",
    "\n",
    "    \"\"\"\n",
    "    x0 = numpy.asfarray(x)\n",
    "    print x0\n",
    "    f0 = func(x0)\n",
    "    print f0\n",
    "    jac = numpy.zeros([len(x0),1])\n",
    "    print jac\n",
    "    dx = numpy.zeros(len(x0))\n",
    "    for i in range(len(x0)):\n",
    "        dx[i] = epsilon\n",
    "        jac[i] = (func(*((x0+dx,)+args)) - f0)/epsilon\n",
    "        dx[i] = 0.0\n",
    "    return jac.transpose()\n",
    "\n",
    "def rosen_der(x):\n",
    "    xm = x[1:-1]\n",
    "    xm_m1 = x[:-2]\n",
    "    xm_p1 = x[2:]\n",
    "    der = np.zeros_like(x)\n",
    "    der[1:-1] = 200*(xm-xm_m1**2) - 400*(xm_p1 - xm**2)*xm - 2*(1-xm)\n",
    "    der[0] = -400*x[0]*(x[1]-x[0]**2) - 2*(1-x[0])\n",
    "    der[-1] = 200*(x[-1]-x[-2]**2)\n",
    "    return der\n",
    "\n",
    "#approx_jacobian(vec, func, 10**-3)\n",
    "print rosen_der(numpy.random.uniform(-10, 10, 10))"
   ]
  }
 ],
 "metadata": {
  "kernelspec": {
   "display_name": "Python 2",
   "language": "python",
   "name": "python2"
  },
  "language_info": {
   "codemirror_mode": {
    "name": "ipython",
    "version": 2
   },
   "file_extension": ".py",
   "mimetype": "text/x-python",
   "name": "python",
   "nbconvert_exporter": "python",
   "pygments_lexer": "ipython2",
   "version": "2.7.5"
  }
 },
 "nbformat": 4,
 "nbformat_minor": 0
}
