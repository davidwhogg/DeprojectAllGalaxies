{
 "cells": [
  {
   "cell_type": "code",
   "execution_count": 46,
   "metadata": {
    "collapsed": false
   },
   "outputs": [
    {
     "name": "stdout",
     "output_type": "stream",
     "text": [
      "Populating the interactive namespace from numpy and matplotlib\n",
      "number of non-zero elements: 554, out of 343000 elements in total\n"
     ]
    },
    {
     "name": "stderr",
     "output_type": "stream",
     "text": [
      "WARNING: pylab import has clobbered these variables: ['f']\n",
      "`%matplotlib` prevents importing * from pylab and numpy\n"
     ]
    }
   ],
   "source": [
    "%pylab inline\n",
    "import matplotlib.pyplot as plt\n",
    "import numpy\n",
    "import h5py\n",
    "\n",
    "file_path = \"./illustris_galaxies/cutout_400.hdf5\"\n",
    "f = h5py.File(file_path, \"r\")\n",
    "stars_snap = f['PartType4']\n",
    "\n",
    "stars_coords = stars_snap['Coordinates'] # the coordinates in which there are stars are here\n",
    "dx = stars_coords[:,0]\n",
    "dy = stars_coords[:,1]\n",
    "dz = stars_coords[:,2]\n",
    "\n",
    "stars_mags = stars_snap['GFM_StellarPhotometrics'] # magnitudes are here\n",
    "u_luminosity = 10 ** (stars_mags[:,4]/-2.5) # lets start with U band and then work with all the rest\n",
    "##u_luminosity = 10 ** (numpy.sum(stars_mags, axis=1)/-2.5)\n",
    "\n",
    "x_vec = numpy.linspace(numpy.percentile(dx, 5), numpy.percentile(dx,95), 50)\n",
    "y_vec = numpy.linspace(numpy.percentile(dy, 5), numpy.percentile(dy,95), 50)\n",
    "z_vec = numpy.linspace(numpy.percentile(dz, 5), numpy.percentile(dz,95), 50)\n",
    "u_lum_mat = numpy.zeros(shape=(50, 50, 50))\n",
    "\n",
    "for i in xrange(49):\n",
    "    for j in xrange(49):\n",
    "        for k in xrange(49):\n",
    "            x_min = x_vec[i]\n",
    "            x_max = x_vec[i+1]\n",
    "            y_min = y_vec[j]\n",
    "            y_max = y_vec[j+1]\n",
    "            z_min = z_vec[k]\n",
    "            z_max = z_vec[k+1]\n",
    "            \n",
    "            lums_list = u_luminosity[(dx >= x_min) & (dx <= x_max) &\n",
    "                                     (dy >= y_min) & (dy <= y_max) &\n",
    "                                     (dz >= z_min) & (dz <= z_max)]\n",
    "            u_lum_mat[i][j][k] += numpy.sum(lums_list)\n",
    "# count the number of non zero elements in the matrix now\n",
    "print \"number of non-zero elements: %s, out of %s elements in total\" % (numpy.count_nonzero(u_lum_mat), 70**3)"
   ]
  },
  {
   "cell_type": "code",
   "execution_count": 47,
   "metadata": {
    "collapsed": false
   },
   "outputs": [
    {
     "data": {
      "text/plain": [
       "<matplotlib.image.AxesImage at 0x1132d2610>"
      ]
     },
     "execution_count": 47,
     "metadata": {},
     "output_type": "execute_result"
    },
    {
     "data": {
      "image/png": "[encoded data removed]",
      "text/plain": [
       "<matplotlib.figure.Figure at 0x112a07a50>"
      ]
     },
     "metadata": {},
     "output_type": "display_data"
    }
   ],
   "source": [
    "from scipy.ndimage.filters import gaussian_filter\n",
    "\n",
    "# produce 3 projection on x,y, and z axes and plot them to see how it looks like\n",
    "proj_1 = numpy.sum(u_lum_mat, axis=0)\n",
    "proj_2 = numpy.sum(u_lum_mat, axis=1)\n",
    "proj_3 = numpy.sum(u_lum_mat, axis=2)\n",
    "\n",
    "plt.rcParams['figure.figsize'] = 12, 4\n",
    "plot_kwargs = {\"interpolation\": \"nearest\",\n",
    "          \"cmap\": \"afmhot\",\n",
    "          \"origin\": \"lower\"}\n",
    "\n",
    "plt.subplot(1, 3, 1)\n",
    "data_sum = gaussian_filter(proj_1, 1)\n",
    "plt.imshow(data_sum, **plot_kwargs)\n",
    "\n",
    "plt.subplot(1, 3, 2)\n",
    "data_sum = gaussian_filter(proj_1, 1)\n",
    "plt.imshow(data_sum, **plot_kwargs)\n",
    "\n",
    "plt.subplot(1, 3, 3)\n",
    "data_sum = gaussian_filter(proj_1, 1)\n",
    "plt.imshow(data_sum, **plot_kwargs)"
   ]
  }
 ],
 "metadata": {
  "kernelspec": {
   "display_name": "Python 2",
   "language": "python",
   "name": "python2"
  },
  "language_info": {
   "codemirror_mode": {
    "name": "ipython",
    "version": 2
   },
   "file_extension": ".py",
   "mimetype": "text/x-python",
   "name": "python",
   "nbconvert_exporter": "python",
   "pygments_lexer": "ipython2",
   "version": "2.7.5"
  }
 },
 "nbformat": 4,
 "nbformat_minor": 0
}
